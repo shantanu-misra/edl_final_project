{
 "cells": [
  {
   "cell_type": "markdown",
   "metadata": {},
   "source": [
    "# Download Dataset"
   ]
  },
  {
   "cell_type": "code",
   "execution_count": 1,
   "metadata": {},
   "outputs": [],
   "source": [
    "from audioset_download import Downloader"
   ]
  },
  {
   "cell_type": "code",
   "execution_count": 2,
   "metadata": {},
   "outputs": [
    {
     "name": "stdout",
     "output_type": "stream",
     "text": [
      "Downloading 60 files...\n"
     ]
    },
    {
     "name": "stderr",
     "output_type": "stream",
     "text": [
      "[Parallel(n_jobs=10)]: Using backend LokyBackend with 10 concurrent workers.\n",
      "[Parallel(n_jobs=10)]: Done   5 tasks      | elapsed:   10.1s\n",
      "[Parallel(n_jobs=10)]: Done  12 tasks      | elapsed:   12.5s\n",
      "[Parallel(n_jobs=10)]: Done  21 tasks      | elapsed:   16.0s\n",
      "[Parallel(n_jobs=10)]: Done  30 tasks      | elapsed:   20.5s\n",
      "[Parallel(n_jobs=10)]: Done  41 tasks      | elapsed:   25.8s\n",
      "[Parallel(n_jobs=10)]: Done  48 out of  60 | elapsed:   29.5s remaining:    7.4s\n",
      "[Parallel(n_jobs=10)]: Done  55 out of  60 | elapsed:   32.0s remaining:    2.9s\n",
      "[Parallel(n_jobs=10)]: Done  60 out of  60 | elapsed:   34.4s finished\n"
     ]
    },
    {
     "name": "stdout",
     "output_type": "stream",
     "text": [
      "Done.\n",
      "Downloading 595 files...\n"
     ]
    },
    {
     "name": "stderr",
     "output_type": "stream",
     "text": [
      "[Parallel(n_jobs=10)]: Using backend LokyBackend with 10 concurrent workers.\n",
      "[Parallel(n_jobs=10)]: Done   5 tasks      | elapsed:    4.8s\n",
      "[Parallel(n_jobs=10)]: Done  12 tasks      | elapsed:    6.3s\n",
      "[Parallel(n_jobs=10)]: Done  21 tasks      | elapsed:   11.7s\n",
      "[Parallel(n_jobs=10)]: Done  30 tasks      | elapsed:   16.8s\n",
      "[Parallel(n_jobs=10)]: Done  41 tasks      | elapsed:   21.0s\n",
      "[Parallel(n_jobs=10)]: Done  52 tasks      | elapsed:   26.1s\n",
      "[Parallel(n_jobs=10)]: Done  65 tasks      | elapsed:   32.7s\n",
      "[Parallel(n_jobs=10)]: Done  78 tasks      | elapsed:   39.0s\n",
      "[Parallel(n_jobs=10)]: Done  93 tasks      | elapsed:   46.1s\n",
      "[Parallel(n_jobs=10)]: Done 108 tasks      | elapsed:   52.5s\n",
      "[Parallel(n_jobs=10)]: Done 125 tasks      | elapsed:  1.0min\n",
      "[Parallel(n_jobs=10)]: Done 142 tasks      | elapsed:  1.2min\n",
      "[Parallel(n_jobs=10)]: Done 161 tasks      | elapsed:  1.4min\n",
      "[Parallel(n_jobs=10)]: Done 180 tasks      | elapsed:  1.5min\n",
      "[Parallel(n_jobs=10)]: Done 201 tasks      | elapsed:  1.7min\n",
      "[Parallel(n_jobs=10)]: Done 222 tasks      | elapsed:  1.9min\n",
      "[Parallel(n_jobs=10)]: Done 245 tasks      | elapsed:  2.0min\n",
      "[Parallel(n_jobs=10)]: Done 268 tasks      | elapsed:  2.2min\n",
      "[Parallel(n_jobs=10)]: Done 293 tasks      | elapsed:  2.4min\n",
      "[Parallel(n_jobs=10)]: Done 318 tasks      | elapsed:  2.6min\n",
      "[Parallel(n_jobs=10)]: Done 345 tasks      | elapsed:  2.8min\n",
      "[Parallel(n_jobs=10)]: Done 372 tasks      | elapsed:  3.0min\n",
      "[Parallel(n_jobs=10)]: Done 401 tasks      | elapsed:  3.3min\n",
      "[Parallel(n_jobs=10)]: Done 430 tasks      | elapsed:  3.5min\n",
      "[Parallel(n_jobs=10)]: Done 461 tasks      | elapsed:  3.7min\n",
      "[Parallel(n_jobs=10)]: Done 492 tasks      | elapsed:  4.0min\n",
      "[Parallel(n_jobs=10)]: Done 525 tasks      | elapsed:  4.3min\n",
      "[Parallel(n_jobs=10)]: Done 558 tasks      | elapsed:  4.5min\n",
      "[Parallel(n_jobs=10)]: Done 595 out of 595 | elapsed:  4.8min finished\n"
     ]
    },
    {
     "name": "stdout",
     "output_type": "stream",
     "text": [
      "Done.\n",
      "Downloading 63 files...\n"
     ]
    },
    {
     "name": "stderr",
     "output_type": "stream",
     "text": [
      "[Parallel(n_jobs=10)]: Using backend LokyBackend with 10 concurrent workers.\n",
      "[Parallel(n_jobs=10)]: Done   5 tasks      | elapsed:    6.5s\n",
      "[Parallel(n_jobs=10)]: Done  12 tasks      | elapsed:    7.7s\n",
      "[Parallel(n_jobs=10)]: Done  21 tasks      | elapsed:   12.4s\n",
      "[Parallel(n_jobs=10)]: Done  30 tasks      | elapsed:   17.0s\n",
      "[Parallel(n_jobs=10)]: Done  41 tasks      | elapsed:   22.8s\n",
      "[Parallel(n_jobs=10)]: Done  51 out of  63 | elapsed:   28.3s remaining:    6.6s\n",
      "[Parallel(n_jobs=10)]: Done  58 out of  63 | elapsed:   31.5s remaining:    2.7s\n"
     ]
    },
    {
     "name": "stdout",
     "output_type": "stream",
     "text": [
      "Done.\n"
     ]
    },
    {
     "name": "stderr",
     "output_type": "stream",
     "text": [
      "[Parallel(n_jobs=10)]: Done  63 out of  63 | elapsed:   33.1s finished\n"
     ]
    }
   ],
   "source": [
    "# download knocking engine data\n",
    "\n",
    "for split in ['balanced_train', 'unbalanced_train', 'eval']:\n",
    "    d = Downloader(\n",
    "        root_path=f'engine_knocking_data/engine_knocking_data_{split}',\n",
    "        labels=[\"Engine knocking\"],\n",
    "        n_jobs=10,  # Increase for faster downloads\n",
    "        download_type=split\n",
    "    )\n",
    "    d.download(format='wav')\n"
   ]
  },
  {
   "cell_type": "code",
   "execution_count": 8,
   "metadata": {},
   "outputs": [
    {
     "name": "stdout",
     "output_type": "stream",
     "text": [
      "Downloading 186 files...\n"
     ]
    },
    {
     "name": "stderr",
     "output_type": "stream",
     "text": [
      "[Parallel(n_jobs=10)]: Using backend LokyBackend with 10 concurrent workers.\n",
      "[Parallel(n_jobs=10)]: Done   5 tasks      | elapsed:    5.2s\n",
      "[Parallel(n_jobs=10)]: Done  12 tasks      | elapsed:    9.7s\n",
      "[Parallel(n_jobs=10)]: Done  21 tasks      | elapsed:   13.1s\n",
      "[Parallel(n_jobs=10)]: Done  30 tasks      | elapsed:   17.9s\n",
      "[Parallel(n_jobs=10)]: Done  41 tasks      | elapsed:   24.0s\n",
      "[Parallel(n_jobs=10)]: Done  52 tasks      | elapsed:   29.5s\n",
      "[Parallel(n_jobs=10)]: Done  65 tasks      | elapsed:   36.1s\n",
      "[Parallel(n_jobs=10)]: Done  78 tasks      | elapsed:   42.1s\n",
      "[Parallel(n_jobs=10)]: Done  93 tasks      | elapsed:   48.1s\n",
      "[Parallel(n_jobs=10)]: Done 108 tasks      | elapsed:   58.3s\n",
      "[Parallel(n_jobs=10)]: Done 125 tasks      | elapsed:  1.1min\n",
      "[Parallel(n_jobs=10)]: Done 142 tasks      | elapsed:  1.3min\n",
      "[Parallel(n_jobs=10)]: Done 161 tasks      | elapsed:  1.4min\n",
      "[Parallel(n_jobs=10)]: Done 186 out of 186 | elapsed:  1.6min finished\n"
     ]
    },
    {
     "name": "stdout",
     "output_type": "stream",
     "text": [
      "Done.\n",
      "Downloading 15870 files...\n"
     ]
    },
    {
     "name": "stderr",
     "output_type": "stream",
     "text": [
      "[Parallel(n_jobs=10)]: Using backend LokyBackend with 10 concurrent workers.\n",
      "[Parallel(n_jobs=10)]: Done   5 tasks      | elapsed:    5.4s\n",
      "[Parallel(n_jobs=10)]: Done  12 tasks      | elapsed:    7.1s\n",
      "[Parallel(n_jobs=10)]: Done  21 tasks      | elapsed:   12.3s\n",
      "[Parallel(n_jobs=10)]: Done  30 tasks      | elapsed:   16.9s\n",
      "[Parallel(n_jobs=10)]: Done  41 tasks      | elapsed:   22.9s\n",
      "[Parallel(n_jobs=10)]: Done  52 tasks      | elapsed:   27.7s\n",
      "[Parallel(n_jobs=10)]: Done  65 tasks      | elapsed:   34.1s\n",
      "[Parallel(n_jobs=10)]: Done  78 tasks      | elapsed:   41.6s\n",
      "[Parallel(n_jobs=10)]: Done  93 tasks      | elapsed:   48.8s\n",
      "[Parallel(n_jobs=10)]: Done 108 tasks      | elapsed:   58.7s\n",
      "[Parallel(n_jobs=10)]: Done 125 tasks      | elapsed:  1.1min\n",
      "[Parallel(n_jobs=10)]: Done 142 tasks      | elapsed:  1.3min\n",
      "[Parallel(n_jobs=10)]: Done 161 tasks      | elapsed:  1.4min\n",
      "[Parallel(n_jobs=10)]: Done 180 tasks      | elapsed:  1.6min\n",
      "[Parallel(n_jobs=10)]: Done 201 tasks      | elapsed:  1.8min\n",
      "[Parallel(n_jobs=10)]: Done 222 tasks      | elapsed:  2.0min\n",
      "[Parallel(n_jobs=10)]: Done 245 tasks      | elapsed:  2.1min\n",
      "[Parallel(n_jobs=10)]: Done 268 tasks      | elapsed:  2.3min\n",
      "[Parallel(n_jobs=10)]: Done 293 tasks      | elapsed:  2.6min\n",
      "[Parallel(n_jobs=10)]: Done 318 tasks      | elapsed:  2.8min\n",
      "[Parallel(n_jobs=10)]: Done 345 tasks      | elapsed:  3.0min\n",
      "[Parallel(n_jobs=10)]: Done 372 tasks      | elapsed:  3.3min\n",
      "[Parallel(n_jobs=10)]: Done 401 tasks      | elapsed:  3.5min\n"
     ]
    },
    {
     "ename": "KeyboardInterrupt",
     "evalue": "",
     "output_type": "error",
     "traceback": [
      "\u001b[0;31m---------------------------------------------------------------------------\u001b[0m",
      "\u001b[0;31mKeyboardInterrupt\u001b[0m                         Traceback (most recent call last)",
      "\u001b[0;32m<ipython-input-8-620cec3d15a0>\u001b[0m in \u001b[0;36m<cell line: 3>\u001b[0;34m()\u001b[0m\n\u001b[1;32m      8\u001b[0m         \u001b[0mdownload_type\u001b[0m\u001b[0;34m=\u001b[0m\u001b[0msplit\u001b[0m\u001b[0;34m\u001b[0m\u001b[0;34m\u001b[0m\u001b[0m\n\u001b[1;32m      9\u001b[0m     )\n\u001b[0;32m---> 10\u001b[0;31m     \u001b[0md\u001b[0m\u001b[0;34m.\u001b[0m\u001b[0mdownload\u001b[0m\u001b[0;34m(\u001b[0m\u001b[0mformat\u001b[0m\u001b[0;34m=\u001b[0m\u001b[0;34m'wav'\u001b[0m\u001b[0;34m)\u001b[0m\u001b[0;34m\u001b[0m\u001b[0;34m\u001b[0m\u001b[0m\n\u001b[0m",
      "\u001b[0;32m~/opt/anaconda3/envs/eld2025/lib/python3.8/site-packages/audioset_download/Downloader.py\u001b[0m in \u001b[0;36mdownload\u001b[0;34m(self, format, quality)\u001b[0m\n\u001b[1;32m     84\u001b[0m \u001b[0;34m\u001b[0m\u001b[0m\n\u001b[1;32m     85\u001b[0m         \u001b[0;31m# Download the dataset\u001b[0m\u001b[0;34m\u001b[0m\u001b[0;34m\u001b[0m\u001b[0;34m\u001b[0m\u001b[0m\n\u001b[0;32m---> 86\u001b[0;31m         joblib.Parallel(n_jobs=self.n_jobs, verbose=10)(\n\u001b[0m\u001b[1;32m     87\u001b[0m             \u001b[0mjoblib\u001b[0m\u001b[0;34m.\u001b[0m\u001b[0mdelayed\u001b[0m\u001b[0;34m(\u001b[0m\u001b[0mself\u001b[0m\u001b[0;34m.\u001b[0m\u001b[0mdownload_file\u001b[0m\u001b[0;34m)\u001b[0m\u001b[0;34m(\u001b[0m\u001b[0mmetadata\u001b[0m\u001b[0;34m.\u001b[0m\u001b[0mloc\u001b[0m\u001b[0;34m[\u001b[0m\u001b[0mi\u001b[0m\u001b[0;34m,\u001b[0m \u001b[0;34m'YTID'\u001b[0m\u001b[0;34m]\u001b[0m\u001b[0;34m,\u001b[0m \u001b[0mmetadata\u001b[0m\u001b[0;34m.\u001b[0m\u001b[0mloc\u001b[0m\u001b[0;34m[\u001b[0m\u001b[0mi\u001b[0m\u001b[0;34m,\u001b[0m \u001b[0;34m'start_seconds'\u001b[0m\u001b[0;34m]\u001b[0m\u001b[0;34m,\u001b[0m \u001b[0mmetadata\u001b[0m\u001b[0;34m.\u001b[0m\u001b[0mloc\u001b[0m\u001b[0;34m[\u001b[0m\u001b[0mi\u001b[0m\u001b[0;34m,\u001b[0m \u001b[0;34m'end_seconds'\u001b[0m\u001b[0;34m]\u001b[0m\u001b[0;34m,\u001b[0m \u001b[0mmetadata\u001b[0m\u001b[0;34m.\u001b[0m\u001b[0mloc\u001b[0m\u001b[0;34m[\u001b[0m\u001b[0mi\u001b[0m\u001b[0;34m,\u001b[0m \u001b[0;34m'positive_labels'\u001b[0m\u001b[0;34m]\u001b[0m\u001b[0;34m)\u001b[0m \u001b[0;32mfor\u001b[0m \u001b[0mi\u001b[0m \u001b[0;32min\u001b[0m \u001b[0mrange\u001b[0m\u001b[0;34m(\u001b[0m\u001b[0mlen\u001b[0m\u001b[0;34m(\u001b[0m\u001b[0mmetadata\u001b[0m\u001b[0;34m)\u001b[0m\u001b[0;34m)\u001b[0m\u001b[0;34m\u001b[0m\u001b[0;34m\u001b[0m\u001b[0m\n\u001b[1;32m     88\u001b[0m         )\n",
      "\u001b[0;32m~/opt/anaconda3/envs/eld2025/lib/python3.8/site-packages/joblib/parallel.py\u001b[0m in \u001b[0;36m__call__\u001b[0;34m(self, iterable)\u001b[0m\n\u001b[1;32m   2005\u001b[0m         \u001b[0mnext\u001b[0m\u001b[0;34m(\u001b[0m\u001b[0moutput\u001b[0m\u001b[0;34m)\u001b[0m\u001b[0;34m\u001b[0m\u001b[0;34m\u001b[0m\u001b[0m\n\u001b[1;32m   2006\u001b[0m \u001b[0;34m\u001b[0m\u001b[0m\n\u001b[0;32m-> 2007\u001b[0;31m         \u001b[0;32mreturn\u001b[0m \u001b[0moutput\u001b[0m \u001b[0;32mif\u001b[0m \u001b[0mself\u001b[0m\u001b[0;34m.\u001b[0m\u001b[0mreturn_generator\u001b[0m \u001b[0;32melse\u001b[0m \u001b[0mlist\u001b[0m\u001b[0;34m(\u001b[0m\u001b[0moutput\u001b[0m\u001b[0;34m)\u001b[0m\u001b[0;34m\u001b[0m\u001b[0;34m\u001b[0m\u001b[0m\n\u001b[0m\u001b[1;32m   2008\u001b[0m \u001b[0;34m\u001b[0m\u001b[0m\n\u001b[1;32m   2009\u001b[0m     \u001b[0;32mdef\u001b[0m \u001b[0m__repr__\u001b[0m\u001b[0;34m(\u001b[0m\u001b[0mself\u001b[0m\u001b[0;34m)\u001b[0m\u001b[0;34m:\u001b[0m\u001b[0;34m\u001b[0m\u001b[0;34m\u001b[0m\u001b[0m\n",
      "\u001b[0;32m~/opt/anaconda3/envs/eld2025/lib/python3.8/site-packages/joblib/parallel.py\u001b[0m in \u001b[0;36m_get_outputs\u001b[0;34m(self, iterator, pre_dispatch)\u001b[0m\n\u001b[1;32m   1648\u001b[0m \u001b[0;34m\u001b[0m\u001b[0m\n\u001b[1;32m   1649\u001b[0m             \u001b[0;32mwith\u001b[0m \u001b[0mself\u001b[0m\u001b[0;34m.\u001b[0m\u001b[0m_backend\u001b[0m\u001b[0;34m.\u001b[0m\u001b[0mretrieval_context\u001b[0m\u001b[0;34m(\u001b[0m\u001b[0;34m)\u001b[0m\u001b[0;34m:\u001b[0m\u001b[0;34m\u001b[0m\u001b[0;34m\u001b[0m\u001b[0m\n\u001b[0;32m-> 1650\u001b[0;31m                 \u001b[0;32myield\u001b[0m \u001b[0;32mfrom\u001b[0m \u001b[0mself\u001b[0m\u001b[0;34m.\u001b[0m\u001b[0m_retrieve\u001b[0m\u001b[0;34m(\u001b[0m\u001b[0;34m)\u001b[0m\u001b[0;34m\u001b[0m\u001b[0;34m\u001b[0m\u001b[0m\n\u001b[0m\u001b[1;32m   1651\u001b[0m \u001b[0;34m\u001b[0m\u001b[0m\n\u001b[1;32m   1652\u001b[0m         \u001b[0;32mexcept\u001b[0m \u001b[0mGeneratorExit\u001b[0m\u001b[0;34m:\u001b[0m\u001b[0;34m\u001b[0m\u001b[0;34m\u001b[0m\u001b[0m\n",
      "\u001b[0;32m~/opt/anaconda3/envs/eld2025/lib/python3.8/site-packages/joblib/parallel.py\u001b[0m in \u001b[0;36m_retrieve\u001b[0;34m(self)\u001b[0m\n\u001b[1;32m   1760\u001b[0m                 (self._jobs[0].get_status(\n\u001b[1;32m   1761\u001b[0m                     timeout=self.timeout) == TASK_PENDING)):\n\u001b[0;32m-> 1762\u001b[0;31m                 \u001b[0mtime\u001b[0m\u001b[0;34m.\u001b[0m\u001b[0msleep\u001b[0m\u001b[0;34m(\u001b[0m\u001b[0;36m0.01\u001b[0m\u001b[0;34m)\u001b[0m\u001b[0;34m\u001b[0m\u001b[0;34m\u001b[0m\u001b[0m\n\u001b[0m\u001b[1;32m   1763\u001b[0m                 \u001b[0;32mcontinue\u001b[0m\u001b[0;34m\u001b[0m\u001b[0;34m\u001b[0m\u001b[0m\n\u001b[1;32m   1764\u001b[0m \u001b[0;34m\u001b[0m\u001b[0m\n",
      "\u001b[0;31mKeyboardInterrupt\u001b[0m: "
     ]
    }
   ],
   "source": [
    "# download engine data\n",
    "\n",
    "for split in ['balanced_train', 'unbalanced_train']:\n",
    "    d = Downloader(\n",
    "        root_path=f'engine_data/engine_data_{split}',\n",
    "        labels=[\"Engine\"],\n",
    "        n_jobs=10,  # Increase for faster downloads\n",
    "        download_type=split\n",
    "    )\n",
    "    d.download(format='wav')\n"
   ]
  },
  {
   "cell_type": "markdown",
   "metadata": {},
   "source": [
    "# Remove invalid files"
   ]
  },
  {
   "cell_type": "code",
   "execution_count": 9,
   "metadata": {},
   "outputs": [],
   "source": [
    "import os\n",
    "import wave\n",
    "import numpy as np\n",
    "from tqdm import tqdm"
   ]
  },
  {
   "cell_type": "code",
   "execution_count": 10,
   "metadata": {},
   "outputs": [],
   "source": [
    "def check_and_clean_wav_files(path_to_files, type_of_sound, delete_invalid=False):\n",
    "    \"\"\"\n",
    "    Check all WAV files to verify they can be opened and are 10 seconds long.\n",
    "    Optionally delete invalid files.\n",
    "    \"\"\"\n",
    "    \n",
    "    splits = ['balanced_train', 'unbalanced_train', 'eval']\n",
    "    results = {\n",
    "        'total': 0,\n",
    "        'valid': 0,\n",
    "        'invalid': 0,\n",
    "        'empty': 0,\n",
    "        'corrupt': 0,\n",
    "        'wrong_duration': 0,\n",
    "        'deleted': 0\n",
    "    }\n",
    "    \n",
    "    invalid_files = []\n",
    "    \n",
    "    for split in splits:\n",
    "        # Path structure\n",
    "        data_path = f'{path_to_files}{split}'\n",
    "        engine_knocking_path = os.path.join(data_path, type_of_sound)\n",
    "        \n",
    "        if not os.path.exists(engine_knocking_path):\n",
    "            print(f\"Path does not exist: {engine_knocking_path}\")\n",
    "            continue\n",
    "        \n",
    "        print(f\"\\nChecking {split} files...\")\n",
    "        \n",
    "        # Get all WAV files in this split\n",
    "        wav_files = []\n",
    "        for root, _, files in os.walk(engine_knocking_path):\n",
    "            wav_files.extend([os.path.join(root, f) for f in files if f.endswith('.wav')])\n",
    "        \n",
    "        results['total'] += len(wav_files)\n",
    "        \n",
    "        # Check each file\n",
    "        for wav_file in tqdm(wav_files, desc=f\"Checking {split} files\"):\n",
    "            is_valid = True\n",
    "            reason = \"\"\n",
    "            \n",
    "            try:\n",
    "                # Try to open the file\n",
    "                with wave.open(wav_file, 'rb') as wf:\n",
    "                    # Check if file is empty\n",
    "                    if wf.getnframes() == 0:\n",
    "                        results['empty'] += 1\n",
    "                        is_valid = False\n",
    "                        reason = \"Empty\"\n",
    "                    else:\n",
    "                        # Check duration\n",
    "                        frames = wf.getnframes()\n",
    "                        rate = wf.getframerate()\n",
    "                        duration = frames / float(rate)\n",
    "                        \n",
    "                        # Delete everything less than 10 seconds\n",
    "                        if abs(duration - 10.0) > 0.5:\n",
    "                            results['wrong_duration'] += 1\n",
    "                            is_valid = False\n",
    "                            reason = f\"Wrong duration: {duration:.2f}s\"\n",
    "            except Exception as e:\n",
    "                results['corrupt'] += 1\n",
    "                is_valid = False\n",
    "                reason = f\"Error: {str(e)}\"\n",
    "            \n",
    "            # Handle valid/invalid files\n",
    "            if is_valid:\n",
    "                results['valid'] += 1\n",
    "            else:\n",
    "                invalid_files.append((wav_file, reason))\n",
    "                \n",
    "                # Delete invalid file if requested\n",
    "                if delete_invalid:\n",
    "                    try:\n",
    "                        os.remove(wav_file)\n",
    "                        results['deleted'] += 1\n",
    "                    except Exception as e:\n",
    "                        print(f\"Failed to delete {wav_file}: {e}\")\n",
    "    \n",
    "    # Calculate total invalid files\n",
    "    results['invalid'] = results['empty'] + results['corrupt'] + results['wrong_duration']\n",
    "    \n",
    "    # Print summary\n",
    "    print(\"\\nSUMMARY OF WAV FILE CHECK\")\n",
    "    print(\"=\" * 40)\n",
    "    print(f\"Total files checked: {results['total']}\")\n",
    "    print(f\"Valid files: {results['valid']} ({results['valid']/results['total']*100:.1f}%)\")\n",
    "    print(f\"Invalid files: {results['invalid']} ({results['invalid']/results['total']*100:.1f}%)\")\n",
    "    print(f\"  - Empty files: {results['empty']}\")\n",
    "    print(f\"  - Corrupt files: {results['corrupt']}\")\n",
    "    print(f\"  - Wrong duration: {results['wrong_duration']}\")\n",
    "    \n",
    "    if delete_invalid:\n",
    "        print(f\"Total files deleted: {results['deleted']}\")\n",
    "    \n",
    "    # Print first 10 invalid files\n",
    "    if invalid_files:\n",
    "        print(\"\\nFirst 10 invalid files:\")\n",
    "        for i, (file, reason) in enumerate(invalid_files[:10]):\n",
    "            print(f\"{i+1}. {os.path.basename(file)}: {reason}\")\n",
    "        \n",
    "        # Save the list of invalid files\n",
    "        with open(f'{type_of_sound}_invalid_wav_files.txt', 'w') as f:\n",
    "            f.write(\"List of invalid WAV files:\\n\")\n",
    "            for file, reason in invalid_files:\n",
    "                f.write(f\"{file}: {reason}\\n\")\n",
    "        print(f\"\\nFull list of invalid files saved to '{type_of_sound}_invalid_wav_files.txt'\")\n",
    "    \n",
    "    return results, invalid_files\n"
   ]
  },
  {
   "cell_type": "code",
   "execution_count": 14,
   "metadata": {},
   "outputs": [
    {
     "name": "stdout",
     "output_type": "stream",
     "text": [
      "Checking WAV files for validity and >5-second duration...\n",
      "\n",
      "Checking balanced_train files...\n"
     ]
    },
    {
     "name": "stderr",
     "output_type": "stream",
     "text": [
      "Checking balanced_train files: 100%|██████████| 27/27 [00:00<00:00, 5784.06it/s]\n"
     ]
    },
    {
     "name": "stdout",
     "output_type": "stream",
     "text": [
      "\n",
      "Checking unbalanced_train files...\n"
     ]
    },
    {
     "name": "stderr",
     "output_type": "stream",
     "text": [
      "Checking unbalanced_train files: 100%|██████████| 209/209 [00:00<00:00, 3848.27it/s]\n"
     ]
    },
    {
     "name": "stdout",
     "output_type": "stream",
     "text": [
      "\n",
      "Checking eval files...\n"
     ]
    },
    {
     "name": "stderr",
     "output_type": "stream",
     "text": [
      "Checking eval files: 100%|██████████| 21/21 [00:00<00:00, 10019.38it/s]"
     ]
    },
    {
     "name": "stdout",
     "output_type": "stream",
     "text": [
      "\n",
      "SUMMARY OF WAV FILE CHECK\n",
      "========================================\n",
      "Total files checked: 257\n",
      "Valid files: 257 (100.0%)\n",
      "Invalid files: 0 (0.0%)\n",
      "  - Empty files: 0\n",
      "  - Corrupt files: 0\n",
      "  - Wrong duration: 0\n"
     ]
    },
    {
     "name": "stderr",
     "output_type": "stream",
     "text": [
      "\n"
     ]
    }
   ],
   "source": [
    "print(\"Checking WAV files for validity and >5-second duration...\")\n",
    "\n",
    "results_knocking, invalid_files_knocking = check_and_clean_wav_files(path_to_files='engine_knocking_data/engine_knocking_data_', type_of_sound=\"Engine knocking\")"
   ]
  },
  {
   "cell_type": "code",
   "execution_count": 15,
   "metadata": {},
   "outputs": [
    {
     "name": "stdout",
     "output_type": "stream",
     "text": [
      "Checking WAV files for validity and >5-second duration...\n",
      "\n",
      "Checking balanced_train files...\n"
     ]
    },
    {
     "name": "stderr",
     "output_type": "stream",
     "text": [
      "Checking balanced_train files: 100%|██████████| 108/108 [00:00<00:00, 10882.78it/s]\n"
     ]
    },
    {
     "name": "stdout",
     "output_type": "stream",
     "text": [
      "\n",
      "Checking unbalanced_train files...\n"
     ]
    },
    {
     "name": "stderr",
     "output_type": "stream",
     "text": [
      "Checking unbalanced_train files: 100%|██████████| 354/354 [00:00<00:00, 14680.33it/s]\n"
     ]
    },
    {
     "name": "stdout",
     "output_type": "stream",
     "text": [
      "\n",
      "Checking eval files...\n"
     ]
    },
    {
     "name": "stderr",
     "output_type": "stream",
     "text": [
      "Checking eval files: 100%|██████████| 62/62 [00:00<00:00, 16150.97it/s]"
     ]
    },
    {
     "name": "stdout",
     "output_type": "stream",
     "text": [
      "\n",
      "SUMMARY OF WAV FILE CHECK\n",
      "========================================\n",
      "Total files checked: 524\n",
      "Valid files: 250 (47.7%)\n",
      "Invalid files: 274 (52.3%)\n",
      "  - Empty files: 232\n",
      "  - Corrupt files: 0\n",
      "  - Wrong duration: 42\n",
      "\n",
      "First 10 invalid files:\n",
      "1. 9-ymRm0OHgY_580.0-590.0.wav: Empty\n",
      "2. 11Pn3yJifSQ_4.0-14.0.wav: Wrong duration: 5.08s\n",
      "3. -jBWkHhQNew_30.0-40.0.wav: Empty\n",
      "4. LkWnbS0Qfrg_30.0-40.0.wav: Empty\n",
      "5. 02tl_ek8f9I_30.0-40.0.wav: Empty\n",
      "6. cMFacOIgiRU_60.0-70.0.wav: Empty\n",
      "7. 65bl67oNEy0_20.0-30.0.wav: Empty\n",
      "8. pUPvir8l8HA_20.0-30.0.wav: Empty\n",
      "9. 57Ijq7fWehY_22.0-32.0.wav: Empty\n",
      "10. aOVPHKqKjyQ_90.0-100.0.wav: Empty\n",
      "\n",
      "Full list of invalid files saved to 'Engine_invalid_wav_files.txt'\n"
     ]
    },
    {
     "name": "stderr",
     "output_type": "stream",
     "text": [
      "\n"
     ]
    }
   ],
   "source": [
    "print(\"Checking WAV files for validity and >5-second duration...\")\n",
    "\n",
    "results_engine, invalid_files_engine = check_and_clean_wav_files(path_to_files='engine_data/engine_data_', type_of_sound=\"Engine\")"
   ]
  },
  {
   "cell_type": "code",
   "execution_count": null,
   "metadata": {},
   "outputs": [],
   "source": []
  }
 ],
 "metadata": {
  "kernelspec": {
   "display_name": "eld2025",
   "language": "python",
   "name": "python3"
  },
  "language_info": {
   "codemirror_mode": {
    "name": "ipython",
    "version": 3
   },
   "file_extension": ".py",
   "mimetype": "text/x-python",
   "name": "python",
   "nbconvert_exporter": "python",
   "pygments_lexer": "ipython3",
   "version": "3.8.18"
  }
 },
 "nbformat": 4,
 "nbformat_minor": 2
}
